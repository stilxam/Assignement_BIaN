{
 "cells": [
  {
   "cell_type": "code",
   "execution_count": 1,
   "metadata": {
    "collapsed": false
   },
   "outputs": [],
   "source": [
    "import yfinance as yf\n",
    "import pandas as pd\n",
    "from datetime import datetime\n",
    "cmpnyLs = [\"ASML\", \"AAPL\"] # import list of company stock symbols\n",
    "DF = pd.DataFrame()\n",
    "for company in cmpnyLs:\n",
    "    dateDF = pd.DataFrame()\n",
    "    dateDF[\"Earnings Date\"] = yf.Ticker(company).earnings_history[\"Earnings Date\"] #pulls dates of earning\n",
    "    for i in range(len(dateDF)): #creates columns of restructured Datetime as dt obj\n",
    "        date = dateDF[\"Earnings Date\"][i]\n",
    "        dateLs = date.split(\",\")\n",
    "        noHours = dateLs[:-1]\n",
    "        dateDF[\"Earnings Date\"][i] = datetime.strptime(f'{noHours[0]},{noHours[1]}', \"%b %d, %Y\").date()\n",
    "    DF[\"Earnings Date\"] = dateDF[\"Earnings Date\"] #merges Date into DF\n",
    "    DF[f'EPS {company}'] = yf.Ticker(company).earnings_history[\"Reported EPS\"].copy() #pulls earnings per share into dataframe\n",
    "DF.to_csv(\"earnings.csv\", index = False)\n",
    "\n",
    "\n"
   ]
  },
  {
   "cell_type": "code",
   "execution_count": 27,
   "metadata": {
    "collapsed": false
   },
   "outputs": [
    {
     "name": "stdout",
     "output_type": "stream",
     "text": [
      "[*********************100%***********************]  1 of 1 completed\n",
      "[*********************100%***********************]  1 of 1 completed\n"
     ]
    }
   ],
   "source": [
    "dfClose = pd.DataFrame()\n",
    "for company in cmpnyLs:\n",
    "    quote = yf.download(tickers= company, interval= \"3mo\", period=\"3y\").copy()\n",
    "    dfClose[f\"{company} Close\"] = quote[\"Close\"]\n",
    "\n",
    "dfClose.to_csv(\"ClosePrice.csv\")\n",
    "\n"
   ]
  }
 ],
 "metadata": {
  "kernelspec": {
   "display_name": "Python 3.10.6 64-bit",
   "language": "python",
   "name": "python3"
  },
  "language_info": {
   "codemirror_mode": {
    "name": "ipython",
    "version": 2
   },
   "file_extension": ".py",
   "mimetype": "text/x-python",
   "name": "python",
   "nbconvert_exporter": "python",
   "pygments_lexer": "ipython2",
   "version": "3.10.6"
  },
  "vscode": {
   "interpreter": {
    "hash": "916dbcbb3f70747c44a77c7bcd40155683ae19c65e1c03b4aa3499c5328201f1"
   }
  }
 },
 "nbformat": 4,
 "nbformat_minor": 0
}
